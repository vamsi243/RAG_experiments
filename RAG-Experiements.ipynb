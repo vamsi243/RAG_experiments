{
 "cells": [
  {
   "cell_type": "code",
   "execution_count": 1,
   "id": "49d6a21f",
   "metadata": {},
   "outputs": [],
   "source": [
    "import os\n",
    "import langchain\n",
    "import langchain_openai\n",
    "from langchain_openai import ChatOpenAI\n",
    "from langchain_openai import OpenAI\n",
    "from langchain.llms import OpenAI\n",
    "from langchain.prompts import PromptTemplate\n",
    "from langchain.chains import LLMChain, SequentialChain \n",
    "from langchain.memory import ConversationBufferMemory\n",
    "from langchain.utilities import WikipediaAPIWrapper "
   ]
  },
  {
   "cell_type": "code",
   "execution_count": 2,
   "id": "bc0d8984",
   "metadata": {},
   "outputs": [],
   "source": [
    "#RAG related imports\n",
    "from langchain.text_splitter import CharacterTextSplitter\n",
    "from langchain_community.document_loaders import TextLoader\n",
    "from langchain_openai import OpenAIEmbeddings\n"
   ]
  },
  {
   "cell_type": "code",
   "execution_count": 3,
   "id": "4a2eea59",
   "metadata": {},
   "outputs": [],
   "source": [
    "from langchain.chains.question_answering import load_qa_chain\n",
    "from langchain.callbacks import get_openai_callback\n"
   ]
  },
  {
   "cell_type": "code",
   "execution_count": 4,
   "id": "241a23b8",
   "metadata": {},
   "outputs": [],
   "source": [
    "from langchain_community.chat_models import ChatOpenAI\n",
    "from langchain_community.embeddings import CohereEmbeddings\n",
    "from langchain_community.vectorstores import Pinecone\n",
    "from langchain_core.output_parsers import StrOutputParser\n",
    "from langchain_core.prompts import ChatPromptTemplate\n",
    "from langchain_core.runnables import RunnableParallel, RunnablePassthrough, RunnableLambda\n",
    "from pinecone import Pinecone as PineconeClient\n",
    "import requests"
   ]
  },
  {
   "cell_type": "code",
   "execution_count": 36,
   "id": "6d675669",
   "metadata": {},
   "outputs": [],
   "source": [
    "from langchain.retrievers.multi_query import MultiQueryRetriever\n"
   ]
  },
  {
   "cell_type": "code",
   "execution_count": 5,
   "id": "7537343d",
   "metadata": {},
   "outputs": [],
   "source": [
    "#Your Pinecone API key.\n",
    "os.environ['PINECONE_API_KEY']= \"pinecone api key\"   \n",
    "#The name of the index you want to use.\n",
    "os.environ['PINECONE_INDEX_NAME'] =\"https://ds-index-dqr5yj5.svc.gcp-starter.pinecone.io\"\n",
    "os.environ[\"PINECONE_ENVIRONMENT\"]=\"gcp-starter\""
   ]
  },
  {
   "cell_type": "code",
   "execution_count": 6,
   "id": "6cecffc0",
   "metadata": {},
   "outputs": [],
   "source": [
    "PINECONE_API_KEY = os.environ[\"PINECONE_API_KEY\"]\n",
    "PINECONE_ENVIRONMENT = os.environ[\"PINECONE_ENVIRONMENT\"]\n",
    "PINECONE_INDEX_NAME = os.environ[\"PINECONE_INDEX_NAME\"]\n"
   ]
  },
  {
   "cell_type": "code",
   "execution_count": 7,
   "id": "2afd7ee1",
   "metadata": {},
   "outputs": [
    {
     "data": {
      "text/plain": [
       "'https://ds-index-dqr5yj5.svc.gcp-starter.pinecone.io'"
      ]
     },
     "execution_count": 7,
     "metadata": {},
     "output_type": "execute_result"
    }
   ],
   "source": [
    " os.environ[\"PINECONE_INDEX_NAME\"]"
   ]
  },
  {
   "cell_type": "code",
   "execution_count": 8,
   "id": "d13c2ff7",
   "metadata": {},
   "outputs": [],
   "source": [
    "from langchain.prompts import ChatPromptTemplate"
   ]
  },
  {
   "cell_type": "code",
   "execution_count": 9,
   "id": "55e8f4ae",
   "metadata": {},
   "outputs": [],
   "source": [
    "from langchain_community.embeddings import HuggingFaceInstructEmbeddings"
   ]
  },
  {
   "cell_type": "code",
   "execution_count": 10,
   "id": "f1241e69",
   "metadata": {},
   "outputs": [],
   "source": [
    "from langchain.text_splitter import RecursiveCharacterTextSplitter\n",
    "\n",
    "from langchain.chains import RetrievalQA\n",
    "\n",
    "from langchain.document_loaders import DirectoryLoader"
   ]
  },
  {
   "cell_type": "code",
   "execution_count": 11,
   "id": "e41702d7",
   "metadata": {},
   "outputs": [],
   "source": [
    "#import open AI api key.\n",
    "os.environ['OPENAI_API_KEY']=\"open api key\""
   ]
  },
  {
   "cell_type": "code",
   "execution_count": 12,
   "id": "2c084cde",
   "metadata": {},
   "outputs": [],
   "source": [
    "#Used to load pdfs\n",
    "from langchain_community.document_loaders import PyPDFLoader\n"
   ]
  },
  {
   "cell_type": "code",
   "execution_count": 13,
   "id": "d89c1510",
   "metadata": {},
   "outputs": [
    {
     "name": "stdout",
     "output_type": "stream",
     "text": [
      "3.11.5\n"
     ]
    }
   ],
   "source": [
    "from platform import python_version\n",
    "\n",
    "print(python_version())"
   ]
  },
  {
   "cell_type": "markdown",
   "id": "2c96547c",
   "metadata": {},
   "source": [
    "Loading and splitting the Documents into chunks"
   ]
  },
  {
   "cell_type": "code",
   "execution_count": 14,
   "id": "d4111e3f",
   "metadata": {},
   "outputs": [],
   "source": [
    "\n",
    "loader = PyPDFLoader(\"Dsa.pdf\")\n",
    "pages = loader.load_and_split()"
   ]
  },
  {
   "cell_type": "code",
   "execution_count": 15,
   "id": "e107df0b",
   "metadata": {},
   "outputs": [
    {
     "name": "stdout",
     "output_type": "stream",
     "text": [
      "page_content='Data Structures and Algorithms:\\nAnnotated Reference with Examples\\nFirst Edition\\nCopyright c⃝Granville Barnett, and Luca Del Tongo 2008.' metadata={'source': 'Dsa.pdf', 'page': 1}\n"
     ]
    }
   ],
   "source": [
    "print(pages[1])"
   ]
  },
  {
   "cell_type": "code",
   "execution_count": 16,
   "id": "ea575923",
   "metadata": {},
   "outputs": [
    {
     "data": {
      "text/plain": [
       "Document(page_content='DSADat a St ruc tur es and Alg orith ms\\nAnn otated Reference with Examp les\\nGranville Bar ne/g425 Luca  Del Tongo', metadata={'source': 'Dsa.pdf', 'page': 0})"
      ]
     },
     "execution_count": 16,
     "metadata": {},
     "output_type": "execute_result"
    }
   ],
   "source": [
    "pages[0]"
   ]
  },
  {
   "cell_type": "code",
   "execution_count": 28,
   "id": "97b62bef",
   "metadata": {},
   "outputs": [],
   "source": [
    "from langchain_community.vectorstores import FAISS\n",
    "\n",
    "faiss_index0 = FAISS.from_documents(pages, model_norm)\n"
   ]
  },
  {
   "cell_type": "code",
   "execution_count": 33,
   "id": "52ca8690",
   "metadata": {},
   "outputs": [],
   "source": [
    "docs0 = faiss_index0.similarity_search(\"what are advantages of DSA?\", k=2)\n"
   ]
  },
  {
   "cell_type": "code",
   "execution_count": 34,
   "id": "7f3fc26e",
   "metadata": {},
   "outputs": [
    {
     "name": "stdout",
     "output_type": "stream",
     "text": [
      "[Document(page_content='Chapter 2\\nLinked Lists\\nLinked lists can be thought of from a high level perspective as being a series\\nof nodes. Each node has at least a single pointer to the next node, and in the\\nlast node’s case a null pointer representing that there are no more nodes in the\\nlinked list.\\nIn DSA our implementations of linked lists always maintain head and tail\\npointers so that insertion at either the head or tail of the list is a constant\\ntime operation. Random insertion is excluded from this and will be a linear\\noperation. As such, linked lists in DSA have the following characteristics:\\n1.Insertion is O(1)\\n2.Deletion is O(n)\\n3.Searching is O(n)\\nOut of the three operations the one that stands out is that of insertion. In\\nDSA we chose to always maintain pointers (or more aptly references) to the\\nnode(s) at the head and tail of the linked list and so performing a traditional\\ninsertion to either the front or back of the linked list is an O(1) operation. An\\nexception to this rule is performing an insertion before a node that is neither\\nthe head nor tail in a singly linked list. When the node we are inserting before\\nis somewhere in the middle of the linked list (known as random insertion) the\\ncomplexity is O(n). In order to add before the designated node we need to\\ntraverse the linked list to ﬁnd that node’s current predecessor. This traversal\\nyields an O(n) run time.\\nThis data structure is trivial, but linked lists have a few key points which at\\ntimes make them very attractive:\\n1.the list is dynamically resized, thus it incurs no copy penalty like an array\\nor vector would eventually incur; and\\n2.insertion is O(1).\\n2.1 Singly Linked List\\nSingly linked lists are one of the most primitive data structures you will ﬁnd in\\nthis book. Each node that makes up a singly linked list consists of a value, and\\na reference to the next node (if any) in the list.\\n9', metadata={'source': 'Dsa.pdf', 'page': 19}), Document(page_content='CHAPTER 6. QUEUES 49\\n8.Enqueue(33)\\n9.Peek()\\n10.Dequeue()\\n6.1 A standard queue\\nA queue is implicitly like that described prior to this section. In DSA we don’t\\nprovide a standard queue because queues are so popular and such a core data\\nstructure that you will ﬁnd pretty much every mainstream library provides a\\nqueue data structure that you can use with your language of choice. In this\\nsection we will discuss how you can, if required, implement an eﬃcient queue\\ndata structure.\\nThe main property of a queue is that we have access to the item at the\\nfront of the queue. The queue data structure can be eﬃciently implemented\\nusing a singly linked list (deﬁned in §2.1). A singly linked list provides O(1)\\ninsertion and deletion run time complexities. The reason we have an O(1) run\\ntime complexity for deletion is because we only ever remove items from the front\\nof queues (with the Dequeue operation). Since we always have a pointer to the\\nitem at the head of a singly linked list, removal is simply a case of returning\\nthe value of the old head node, and then modifying the head pointer to be the\\nnext node of the old head node. The run time complexity for searching a queue\\nremains the same as that of a singly linked list: O(n).\\n6.2 Priority Queue\\nUnlike a standard queue where items are ordered in terms of who arrived ﬁrst,\\na priority queue determines the order of its items by using a form of custom\\ncomparer to see which item has the highest priority. Other than the items in a\\npriority queue being ordered by priority it remains the same as a normal queue:\\nyou can only access the item at the front of the queue.\\nA sensible implementation of a priority queue is to use a heap data structure\\n(deﬁned in §4). Using a heap we can look at the ﬁrst item in the queue by simply\\nreturning the item at index 0 within the heap array. A heap provides us with the\\nability to construct a priority queue where the items with the highest priority\\nare either those with the smallest value, or those with the largest.\\n6.3 Double Ended Queue\\nUnlike the queues we have talked about previously in this chapter a double\\nended queue allows you to access the items at both the front, and back of the\\nqueue. A double ended queue is commonly known as a deque which is the name\\nwe will here on in refer to it as.\\nA deque applies no prioritization strategy to its items like a priority queue\\ndoes, items are added in order to either the front of back of the deque. The\\nformer properties of the deque are denoted by the programmer utilising the data\\nstructures exposed interface.', metadata={'source': 'Dsa.pdf', 'page': 59})]\n"
     ]
    }
   ],
   "source": [
    "print(docs0)"
   ]
  },
  {
   "cell_type": "code",
   "execution_count": 44,
   "id": "37ca4b12",
   "metadata": {},
   "outputs": [],
   "source": [
    "model = ChatOpenAI(temperature=0)\n",
    "retriever = MultiQueryRetriever.from_llm(retriever=faiss_index0.as_retriever(), llm=model)"
   ]
  },
  {
   "cell_type": "code",
   "execution_count": null,
   "id": "09a2331d",
   "metadata": {},
   "outputs": [],
   "source": []
  },
  {
   "cell_type": "code",
   "execution_count": 45,
   "id": "4f9be9d7",
   "metadata": {},
   "outputs": [],
   "source": [
    "query=\"what are advantages of DSA?\""
   ]
  },
  {
   "cell_type": "code",
   "execution_count": 53,
   "id": "4f4ca37c",
   "metadata": {},
   "outputs": [
    {
     "name": "stdout",
     "output_type": "stream",
     "text": [
      "Tokens Used: 1905\n",
      "\tPrompt Tokens: 1584\n",
      "\tCompletion Tokens: 321\n",
      "Successful Requests: 1\n",
      "Total Cost (USD): $0.003018\n"
     ]
    }
   ],
   "source": [
    "docs = faiss_index0.similarity_search(query=query, k=3)\n",
    " \n",
    "chain = load_qa_chain(llm=model, chain_type=\"stuff\")\n",
    "with get_openai_callback() as cb:\n",
    "    response = chain.run(input_documents=docs, question=query)\n",
    "print(cb)"
   ]
  },
  {
   "cell_type": "code",
   "execution_count": 54,
   "id": "857b5b27",
   "metadata": {},
   "outputs": [
    {
     "name": "stdout",
     "output_type": "stream",
     "text": [
      "The advantages of DSA (Data Structures and Algorithms) include:\n",
      "\n",
      "1. Efficiency: DSA allows for efficient storage and retrieval of data. By choosing appropriate data structures and implementing efficient algorithms, DSA can help optimize the performance of programs.\n",
      "\n",
      "2. Flexibility: DSA provides a wide range of data structures and algorithms that can be used to solve a variety of problems. This flexibility allows programmers to choose the most suitable approach for their specific needs.\n",
      "\n",
      "3. Reusability: DSA promotes code reusability. Once implemented, data structures and algorithms can be reused in different programs or projects, saving time and effort.\n",
      "\n",
      "4. Scalability: DSA enables programs to handle large amounts of data effectively. By using efficient data structures and algorithms, DSA can handle increasing data sizes without significant performance degradation.\n",
      "\n",
      "5. Problem-solving: DSA provides a systematic approach to problem-solving. By analyzing problems and selecting appropriate data structures and algorithms, programmers can solve complex problems efficiently.\n",
      "\n",
      "6. Standardization: DSA provides a standard set of data structures and algorithms that are widely used and understood. This standardization allows for easier collaboration and communication among programmers.\n",
      "\n",
      "7. Optimization: DSA helps in optimizing code by providing techniques to reduce time complexity and space complexity. This can lead to faster and more efficient programs.\n",
      "\n",
      "8. Understanding: Studying DSA helps programmers gain a deeper understanding of how data is organized and processed. This knowledge can enhance their overall programming skills and make them better problem solvers.\n",
      "\n",
      "It is important to note that the advantages of DSA may vary depending on the specific use case and context.\n"
     ]
    }
   ],
   "source": [
    "print(response)"
   ]
  },
  {
   "cell_type": "code",
   "execution_count": 56,
   "id": "49a859fd",
   "metadata": {},
   "outputs": [],
   "source": []
  },
  {
   "cell_type": "code",
   "execution_count": 60,
   "id": "b290e5e2",
   "metadata": {},
   "outputs": [],
   "source": [
    "# RAG prompt\n",
    "template = \"\"\"Answer the question based only on the following context:\n",
    "{context}\n",
    "Question: {question}\n",
    "\"\"\"\n",
    "prompt = ChatPromptTemplate.from_template(template)\n",
    "\n",
    "# RAG\n",
    "model = ChatOpenAI()\n",
    "chain1 = ( RunnableParallel({\"context\": retriever, \"question\": RunnablePassthrough()})\n",
    "| prompt\n",
    "| model\n",
    "| StrOutputParser()\n",
    ")"
   ]
  },
  {
   "cell_type": "code",
   "execution_count": 52,
   "id": "88722c9f",
   "metadata": {},
   "outputs": [
    {
     "data": {
      "text/plain": [
       "AIMessage(content='Based on the given context, the advantages of DSA (Data Structures and Algorithms) are:\\n\\n1. Dynamic resizing: Linked lists, a type of data structure in DSA, can dynamically resize without incurring a copy penalty like an array or vector would eventually incur.\\n\\n2. Constant time insertion: Insertion at either the head or tail of a linked list in DSA is a constant time operation (O(1)) because the data structure maintains head and tail pointers.\\n\\n3. Fast look-up times: Sets implemented in DSA have fast look-up times. Unordered sets use a hash table for near constant run time complexity, while ordered sets use a binary search tree with logarithmic run time complexity.\\n\\n4. Efficient queue implementation: DSA provides an efficient way to implement a queue data structure using a singly linked list. Insertion and deletion in a queue implemented with a singly linked list have O(1) run time complexities.\\n\\n5. Priority queue support: DSA provides support for priority queues, where items are ordered based on custom comparers to determine their priority. A sensible implementation of a priority queue is using a heap data structure, which allows for efficient access to the first item in the queue.\\n\\n6. Double Ended Queue (Deque) support: DSA also supports double-ended queues, also known as deques, which allow access to items at both the front and back of the queue.')"
      ]
     },
     "execution_count": 52,
     "metadata": {},
     "output_type": "execute_result"
    }
   ],
   "source": [
    "chain1.invoke(query)\n"
   ]
  },
  {
   "cell_type": "code",
   "execution_count": null,
   "id": "ebeed959",
   "metadata": {},
   "outputs": [],
   "source": []
  },
  {
   "cell_type": "code",
   "execution_count": 17,
   "id": "8ce0f107",
   "metadata": {},
   "outputs": [],
   "source": [
    "loader1 = PyPDFLoader(\"ctax.pdf\")\n",
    "pages1 = loader1.load_and_split()"
   ]
  },
  {
   "cell_type": "code",
   "execution_count": 18,
   "id": "6ba3024c",
   "metadata": {},
   "outputs": [
    {
     "data": {
      "text/plain": [
       "Document(page_content=\"Chapter 2  \\nOverview of Australia's corporate tax system  \\n2.1 This chapter provides an overview of Australia's corporate tax system and its \\nimportance as a source of public revenue. In particular, this chapter:  \\n• provides an introduction to Australia's corporate tax system;  \\n• considers the international context; and  \\n• explores the broad impacts associated with tax avoidance and aggressive \\nminimisation.   \\nIntroduction to Australia's corporate income tax system   \\n2.2 Australia's taxation system is extremely complex and issues relating to  \\ncorporate tax are no different. As such, the information presented in this section \\nprovides a brief overview of how the corporate income tax system operates—noting \\nthere are many highly technical  rules and interpretations that affect businesses  and \\ninvestment decisions, and the amount of corporate income tax paid.   \\n2.3 While corporations pay a variety of taxes and levies (including payroll tax, \\nGST and royalties) to different levels of government, the potential for tax avoidance \\nand aggressive minimisation appears to be greatest in the area of corporate income \\ntax. That said, there are also competition concerns when corporations may have \\ndifferent costs structures because of the taxes levied on them by virtue of operating \\nfrom other jurisdictions. These issues are explored in chapter 5.  \\nCorporate income tax is levied on assessable income  \\n2.4 Australian corporations that are considered permanent establishments are \\nrequired to pay corporate income tax on assessable income. The general rate of \\ntaxation is  30 per cent but there are some variations for a small number of specific \\ncompany types. Assessable income is defined as total revenue less allowable deductions that are associated with the costs of doing business.  \\n2.5 Corporations are entitled to deduct various expenses relating to their business \\noperations. Allowable deductions include:  \\n• costs incurred in supplying goods and services, including employee costs;  \\n• interest payments on borrowed money ; \\n• depreciation and amortisation of capital goods; and  \\n• research and  development expenses.  \\n2.6 Australia has a broad- based company income tax regime which seeks to tax \\nassessable income on a territorial basis —that is, in the jurisdiction where it is sourced. \\nIf assessable income is derived from activities within Australia, then that income is \\ntaxed according to the Australian company tax regime.1  \\n                                              \\n1  Treasury, Risks to Australia's Corporate Tax Base, Scoping Paper, July 2013, p. 11.\", metadata={'source': 'ctax.pdf', 'page': 0})"
      ]
     },
     "execution_count": 18,
     "metadata": {},
     "output_type": "execute_result"
    }
   ],
   "source": [
    "pages1[0]"
   ]
  },
  {
   "cell_type": "code",
   "execution_count": 19,
   "id": "c28c196b",
   "metadata": {},
   "outputs": [
    {
     "name": "stdout",
     "output_type": "stream",
     "text": [
      "112\n"
     ]
    },
    {
     "data": {
      "text/plain": [
       "10"
      ]
     },
     "execution_count": 19,
     "metadata": {},
     "output_type": "execute_result"
    }
   ],
   "source": [
    "print(len(pages))\n",
    "len(pages1)"
   ]
  },
  {
   "cell_type": "code",
   "execution_count": 20,
   "id": "db49dabb",
   "metadata": {},
   "outputs": [],
   "source": [
    "documents=loader.load()"
   ]
  },
  {
   "cell_type": "code",
   "execution_count": 21,
   "id": "cc708bf0",
   "metadata": {},
   "outputs": [
    {
     "name": "stdout",
     "output_type": "stream",
     "text": [
      "page_content='Data Structures and Algorithms:\\nAnnotated Reference with Examples\\nFirst Edition\\nCopyright c⃝Granville Barnett, and Luca Del Tongo 2008.' metadata={'source': 'Dsa.pdf', 'page': 1}\n"
     ]
    }
   ],
   "source": [
    "print(documents[1])"
   ]
  },
  {
   "cell_type": "code",
   "execution_count": 22,
   "id": "8b72d218",
   "metadata": {},
   "outputs": [],
   "source": [
    "documents1=loader1.load()"
   ]
  },
  {
   "cell_type": "code",
   "execution_count": 23,
   "id": "3ccddc2f",
   "metadata": {},
   "outputs": [
    {
     "name": "stdout",
     "output_type": "stream",
     "text": [
      "page_content=\"8  \\n 2.7 Where assessable income is derived from activities outside Australia, that \\nincome is generally exempt from corporate income tax provided that the income was \\n'actively' earned.2 In cer tain circumstances, however, corporations may be required to \\npay 'top- up' tax to Australia on repatriated earnings as required by Controlled Foreign \\nCompany rules. For example, BHP Billiton has paid 'top-up' tax to Australia on profits \\nrepatriated from its Singapore marketing hub.3 \\nCertain types of corporations are exempt from paying income tax  \\n2.8 While most corporations undertaking business activities are required to pay \\ncorporate income tax, certain types of  corporate entities are not liable.  \\n2.9 Partnerships and trusts are not required to pay corporate tax provided their \\nassessable income is distributed to unit holders. Unit holders are then required to pay \\neither corporate tax (in the case of a company) or personal income tax (in the case of \\nindividuals) on di stributed income on a flow-through basis.  \\n2.10 Property trusts, such as Real Estate Investment Trusts (REITs), do not pay \\ncorporate income tax on passive rental income but distribute this to investors who pay \\ntax at their own individual tax rate.4 In Australia, stapled securities are used to split \\nthe passive and active income earning activities of property investments. Active \\nincome from trading activities, such as funds management and property development, \\nare subject to corporate income tax.5  \\n2.11 Other types of  incorporated entities are also exempt from paying income tax, \\nsuch as certain non- profit organisations and charities.  \\nBreakdown of corporate tax in Australia  \\nLarge companies pay the majority of corporate income tax  \\n2.12 Over 850,000 companies lodged a tax return in 2012–13 and paid \\n$66.9 billion in company income tax.6 This represented about 19 per cent of total \\nfederal tax receipts.7  \\n2.13 Corporate tax revenue is highly concentrated with the majority of corporate \\ntax paid by only a relatively small number of companies. For example, large \\ncompanies with turnover of greater than $250  million account f or over 60 per cent of \\n                                              \\n2  By contrast, individual and 'passive' business income is taxed on a worldwide basis and, as \\nsuch, is levied on total assessable income regardless of the jurisdiction in which it is sourced. \\nThe Board of Taxation, Review of Debt and Equity Tax Rules: Discus sion Paper , March 2014.  \\n3  Answer to Question on Notice No. 14, p. 1.  \\n4  Property Council of Australia, Submission 18, p. 5.  \\n5  Property Council of Australia, Submission 18, p. 5.  \\n6  ATO, Submissi on 48 , pp. 6 –7. \\n7  Australian  Government, Re: think —Tax Discussion Paper, March 2015, p. 76.  \" metadata={'source': 'ctax.pdf', 'page': 1}\n"
     ]
    }
   ],
   "source": [
    "print(documents1[1])"
   ]
  },
  {
   "cell_type": "code",
   "execution_count": null,
   "id": "196ab44d",
   "metadata": {},
   "outputs": [],
   "source": []
  },
  {
   "cell_type": "code",
   "execution_count": null,
   "id": "08c6ecc1",
   "metadata": {},
   "outputs": [
    {
     "ename": "NameError",
     "evalue": "name 'documents_dir' is not defined",
     "output_type": "error",
     "traceback": [
      "\u001b[1;31m---------------------------------------------------------------------------\u001b[0m",
      "\u001b[1;31mNameError\u001b[0m                                 Traceback (most recent call last)",
      "Cell \u001b[1;32mIn[24], line 1\u001b[0m\n\u001b[1;32m----> 1\u001b[0m \u001b[38;5;28mlen\u001b[39m(documents_dir)\n",
      "\u001b[1;31mNameError\u001b[0m: name 'documents_dir' is not defined"
     ]
    }
   ],
   "source": []
  },
  {
   "cell_type": "code",
   "execution_count": 25,
   "id": "855ce8df",
   "metadata": {},
   "outputs": [],
   "source": [
    "#pip3 install torch torchvision torchaudio --index-url https://download.pytorch.org/whl/cu118"
   ]
  },
  {
   "cell_type": "code",
   "execution_count": 27,
   "id": "e54040c8",
   "metadata": {},
   "outputs": [],
   "source": [
    "from langchain.embeddings import HuggingFaceBgeEmbeddings\n",
    "\n",
    "model_name = \"BAAI/bge-base-en\"\n",
    "encode_kwargs = {'normalize_embeddings': True} # set True to compute cosine similarity\n",
    "\n",
    "model_norm = HuggingFaceBgeEmbeddings(\n",
    "    model_name=model_name,\n",
    "    encode_kwargs=encode_kwargs\n",
    ")"
   ]
  },
  {
   "cell_type": "markdown",
   "id": "0e6c87b8",
   "metadata": {},
   "source": [
    "#I used BHE lite model, that has 768 dimensions as embedding model, faiss index ad index storage and vectordb"
   ]
  },
  {
   "cell_type": "code",
   "execution_count": null,
   "id": "c613cc52",
   "metadata": {},
   "outputs": [],
   "source": []
  },
  {
   "cell_type": "code",
   "execution_count": 29,
   "id": "eabbac1a",
   "metadata": {},
   "outputs": [],
   "source": [
    "from langchain_community.vectorstores import FAISS\n",
    "\n",
    "faiss_index = FAISS.from_documents(pages1, model_norm)\n"
   ]
  },
  {
   "cell_type": "code",
   "execution_count": 30,
   "id": "f62500cf",
   "metadata": {},
   "outputs": [],
   "source": [
    "docs12 = faiss_index.similarity_search(\"what are different Australia corporate tax types?\", k=2)\n"
   ]
  },
  {
   "cell_type": "code",
   "execution_count": 31,
   "id": "941f2d3c",
   "metadata": {},
   "outputs": [
    {
     "name": "stdout",
     "output_type": "stream",
     "text": [
      "0: Chapter 2  \n",
      "Overview of Australia's corporate tax system  \n",
      "2.1 This chapter provides an overview of Australia's corporate tax system and its \n",
      "importance as a source of public revenue. In particular, this chapter:  \n",
      "• provides an introduction to Australia's corporate tax system;  \n",
      "• considers the int\n",
      "6: 13 \n",
      " A$945 million in 'top- up tax' to the ATO on the profits of BHP Billiton Marketi ng \n",
      "(Singapore Branch) for the period 2006 to 2014.28  \n",
      "Treatment of income sourced in Australia by foreign-based organisations  \n",
      "2.39 Where tax treaties exist between jurisdictions, companies can effectively \n",
      "choo\n"
     ]
    }
   ],
   "source": [
    "for doc in docs12:\n",
    "    print(str(doc.metadata[\"page\"]) + \":\", doc.page_content[:300])"
   ]
  },
  {
   "cell_type": "markdown",
   "id": "f5b61e6e",
   "metadata": {},
   "source": [
    "#Used OpenAi model as LLm."
   ]
  },
  {
   "cell_type": "code",
   "execution_count": null,
   "id": "99bf403e",
   "metadata": {},
   "outputs": [],
   "source": []
  },
  {
   "cell_type": "code",
   "execution_count": 37,
   "id": "c7af4e80",
   "metadata": {},
   "outputs": [],
   "source": [
    "model = ChatOpenAI(temperature=0)\n",
    "retriever = MultiQueryRetriever.from_llm(retriever=faiss_index.as_retriever(), llm=model)"
   ]
  },
  {
   "cell_type": "code",
   "execution_count": null,
   "id": "4ee101f5",
   "metadata": {},
   "outputs": [],
   "source": []
  },
  {
   "cell_type": "code",
   "execution_count": null,
   "id": "d07eec19",
   "metadata": {},
   "outputs": [],
   "source": [
    "# RAG prompt\n",
    "template = \"\"\"Answer the question based only on the following context:\n",
    "{context}\n",
    "Question: {question}\n",
    "\"\"\"\n",
    "prompt = ChatPromptTemplate.from_template(template)\n",
    "\n",
    "# RAG\n",
    "model = ChatOpenAI()\n",
    "chain1 = (\n",
    "RunnableParallel({\"context\": retriever0, \"question\": RunnablePassthrough()})\n",
    "| prompt\n",
    "| model\n",
    "| StrOutputParser()\n",
    ")"
   ]
  },
  {
   "cell_type": "code",
   "execution_count": null,
   "id": "40c44a61",
   "metadata": {},
   "outputs": [],
   "source": [
    "chain1.invoke(\"what are different corporate taxes in Australia?\")\n"
   ]
  },
  {
   "cell_type": "code",
   "execution_count": null,
   "id": "33d13169",
   "metadata": {},
   "outputs": [],
   "source": [
    "chain1.invoke(\"what is difference between income tax and payroll tax in Australia?\")\n"
   ]
  },
  {
   "cell_type": "code",
   "execution_count": null,
   "id": "4c1cbd97",
   "metadata": {},
   "outputs": [],
   "source": [
    "chain123.invoke(\"what are different DSA advantages?\")\n"
   ]
  },
  {
   "cell_type": "code",
   "execution_count": null,
   "id": "14a535b2",
   "metadata": {},
   "outputs": [],
   "source": [
    "from langchain_community.vectorstores import FAISS\n",
    "\n",
    "faiss_index1 = FAISS.from_documents(pages1, OpenAIEmbeddings())\n",
    "docs123 = faiss_index1.similarity_search(\"what are different Australia corporate tax types?\", k=2)\n",
    "for doc in docs123:\n",
    "    print(str(doc.metadata[\"page\"]) + \":\", doc.page_content[:500])"
   ]
  },
  {
   "cell_type": "markdown",
   "id": "8baafe48",
   "metadata": {},
   "source": [
    "openai embeddings with open ai llm"
   ]
  },
  {
   "cell_type": "code",
   "execution_count": null,
   "id": "81937c46",
   "metadata": {},
   "outputs": [],
   "source": [
    "model1 = ChatOpenAI(temperature=0)\n",
    "retriever1 = MultiQueryRetriever.from_llm(retriever=faiss_index1.as_retriever(), llm=model1)"
   ]
  },
  {
   "cell_type": "code",
   "execution_count": null,
   "id": "f0f76f56",
   "metadata": {},
   "outputs": [],
   "source": [
    "# RAG prompt\n",
    "template = \"\"\"Answer the question based only on the following context:\n",
    "{context}\n",
    "Question: {question}\n",
    "\"\"\"\n",
    "prompt = ChatPromptTemplate.from_template(template)\n",
    "\n",
    "# RAG\n",
    "chain12 = (\n",
    "RunnableParallel({\"context\": retriever, \"question\": RunnablePassthrough()})\n",
    "| prompt\n",
    "| model1\n",
    "| StrOutputParser()\n",
    ")"
   ]
  },
  {
   "cell_type": "code",
   "execution_count": null,
   "id": "8b02dea6",
   "metadata": {},
   "outputs": [],
   "source": [
    "chain12.invoke(\"what are different corporate taxes in Australia?\")\n"
   ]
  },
  {
   "cell_type": "code",
   "execution_count": null,
   "id": "83738b30",
   "metadata": {},
   "outputs": [],
   "source": [
    "chain12.invoke(\"what is difference between income tax and payroll tax in Australia?\")\n"
   ]
  },
  {
   "cell_type": "code",
   "execution_count": null,
   "id": "84c93657",
   "metadata": {},
   "outputs": [],
   "source": []
  },
  {
   "cell_type": "code",
   "execution_count": null,
   "id": "081323fa",
   "metadata": {},
   "outputs": [],
   "source": [
    "from langchain_community.vectorstores import FAISS\n",
    "\n",
    "faiss_index1 = FAISS.from_documents(pages, OpenAIEmbeddings())\n",
    "docs1 = faiss_index1.similarity_search(\"what are DSA advantages?\", k=2)\n",
    "for doc in docs1:\n",
    "    print(str(doc.metadata[\"page\"]) + \":\", doc.page_content[:500])"
   ]
  },
  {
   "cell_type": "code",
   "execution_count": null,
   "id": "502c1266",
   "metadata": {},
   "outputs": [],
   "source": [
    "model1 = ChatOpenAI(temperature=0)\n",
    "retriever = MultiQueryRetriever.from_llm(retriever=faiss_index1.as_retriever(), llm=model1)"
   ]
  },
  {
   "cell_type": "code",
   "execution_count": null,
   "id": "0811d15d",
   "metadata": {},
   "outputs": [],
   "source": [
    "# RAG prompt\n",
    "template = \"\"\"Answer the question based only on the following context:\n",
    "{context}\n",
    "Question: {question}\n",
    "\"\"\"\n",
    "prompt = ChatPromptTemplate.from_template(template)\n",
    "\n",
    "# RAG\n",
    "chain_1 = (\n",
    "RunnableParallel({\"context\": retriever, \"question\": RunnablePassthrough()})\n",
    "| prompt\n",
    "| model1\n",
    "| StrOutputParser()\n",
    ")"
   ]
  },
  {
   "cell_type": "code",
   "execution_count": null,
   "id": "11e0a666",
   "metadata": {},
   "outputs": [],
   "source": [
    "chain_1.invoke(\"what are different DSA advantages?\")\n"
   ]
  },
  {
   "cell_type": "markdown",
   "id": "85e8aee7",
   "metadata": {},
   "source": [
    "#pine cone and cohere API values\n",
    "#Pinecone is used to store the vector indices and Openai got multiple embedding models, in here i chose 1536 emmbedding model, (Can experiement with 1024,768 embedding model)"
   ]
  },
  {
   "cell_type": "code",
   "execution_count": null,
   "id": "be541f6d",
   "metadata": {},
   "outputs": [],
   "source": [
    "#using openai embedding and storing in pinecone vector store"
   ]
  },
  {
   "cell_type": "code",
   "execution_count": null,
   "id": "193296d6",
   "metadata": {},
   "outputs": [],
   "source": [
    "from langchain.vectorstores import Pinecone as PineconeStore"
   ]
  },
  {
   "cell_type": "code",
   "execution_count": null,
   "id": "37afc8eb",
   "metadata": {},
   "outputs": [],
   "source": [
    "\n",
    "index = pinecone.Index(\"ds-index\")\n",
    "\n",
    "index.describe_index_stats()\n"
   ]
  },
  {
   "cell_type": "code",
   "execution_count": null,
   "id": "38919cfc",
   "metadata": {},
   "outputs": [],
   "source": []
  },
  {
   "cell_type": "code",
   "execution_count": null,
   "id": "7d7963bc",
   "metadata": {},
   "outputs": [],
   "source": [
    "\n",
    "loader33 = PyPDFLoader(\"ctax.pdf\")\n",
    "data33 = loader33.load()\n",
    "# Split your data up into smaller documents with Chunks\n",
    "text_splitter = RecursiveCharacterTextSplitter(chunk_size=1000, chunk_overlap=0)\n",
    "documents = text_splitter.split_documents(data33)\n",
    "# Convert Document objects into strings\n",
    "pages33 = [str(doc) for doc in documents]"
   ]
  },
  {
   "cell_type": "code",
   "execution_count": null,
   "id": "7aa6912e",
   "metadata": {},
   "outputs": [],
   "source": [
    "\n",
    "loader44 = PyPDFLoader(\"Dsa.pdf\")\n",
    "data44 = loader44.load()\n",
    "# Split your data up into smaller documents with Chunks\n",
    "text_splitter = RecursiveCharacterTextSplitter(chunk_size=1000, chunk_overlap=0)\n",
    "documents = text_splitter.split_documents(data44)\n",
    "# Convert Document objects into strings\n",
    "pages44 = [str(doc) for doc in documents]"
   ]
  },
  {
   "cell_type": "code",
   "execution_count": null,
   "id": "02d8be8d",
   "metadata": {},
   "outputs": [],
   "source": [
    "index_name=\"ds-index\""
   ]
  },
  {
   "cell_type": "code",
   "execution_count": null,
   "id": "b99a5764",
   "metadata": {},
   "outputs": [],
   "source": [
    "# Install the latest version\n",
    "#!pip install pinecone-client\n",
    "\n"
   ]
  },
  {
   "cell_type": "code",
   "execution_count": null,
   "id": "09c661a8",
   "metadata": {},
   "outputs": [],
   "source": [
    "# Install the latest version, with extra grpc dependencies\n",
    "#!pip install \"pinecone-client[grpc]\"\n"
   ]
  },
  {
   "cell_type": "code",
   "execution_count": null,
   "id": "7731febb",
   "metadata": {},
   "outputs": [],
   "source": [
    "\n",
    "# Install a specific version\n",
    "#!pip install pinecone-client==3.0.0\n",
    "\n",
    "# Install a specific version, with grpc extras\n",
    "#!pip install \"pinecone-client[grpc]\"==3.0.0"
   ]
  },
  {
   "cell_type": "code",
   "execution_count": null,
   "id": "c3639ad7",
   "metadata": {},
   "outputs": [],
   "source": [
    "import os\n",
    "from pinecone.grpc import PineconeGRPC\n",
    "\n",
    "pc = PineconeGRPC(api_key=os.environ.get('PINECONE_API_KEY'))\n",
    "\n",
    "# From here on, everything is identical to the REST-based client.\n",
    "index = pc.Index(host='https://ds-index-dqr5yj5.svc.gcp-starter.pinecone.io')"
   ]
  },
  {
   "cell_type": "code",
   "execution_count": null,
   "id": "47f82a21",
   "metadata": {},
   "outputs": [],
   "source": []
  },
  {
   "cell_type": "code",
   "execution_count": null,
   "id": "2d231f26",
   "metadata": {},
   "outputs": [],
   "source": [
    "from pinecone import Pinecone\n",
    "pc = Pinecone(api_key=PINECONE_API_KEY)"
   ]
  },
  {
   "cell_type": "code",
   "execution_count": null,
   "id": "3f2d3cbe",
   "metadata": {},
   "outputs": [],
   "source": [
    "from langchain.vectorstores import Pinecone\n",
    "from langchain.embeddings import OpenAIEmbeddings\n",
    "import pinecone\n",
    "\n",
    "embeddings = OpenAIEmbeddings()\n",
    "my_pinecone = Pinecone.from_texts(\n",
    "    pages33,  # an iterable of strings you want to build your Pinecone index with\n",
    "    embeddings,\n",
    "    index_name=\"ds-index\")  # provide your own unique index_name"
   ]
  },
  {
   "cell_type": "code",
   "execution_count": null,
   "id": "e1c8d1d3",
   "metadata": {},
   "outputs": [],
   "source": []
  },
  {
   "cell_type": "code",
   "execution_count": null,
   "id": "f81120ed",
   "metadata": {},
   "outputs": [],
   "source": [
    "from pinecone import Pinecone\n",
    "\n",
    "index_description = pc.describe_index(\"ds-index\")"
   ]
  },
  {
   "cell_type": "code",
   "execution_count": null,
   "id": "80651ce0",
   "metadata": {},
   "outputs": [],
   "source": [
    "print(index_description)"
   ]
  },
  {
   "cell_type": "code",
   "execution_count": null,
   "id": "daac3b2e",
   "metadata": {},
   "outputs": [],
   "source": [
    "vectorstore = my_pinecone \n",
    "model = ChatOpenAI(temperature=0)\n",
    "retriever234 = MultiQueryRetriever.from_llm(retriever=vectorstore.as_retriever(), llm=model)"
   ]
  },
  {
   "cell_type": "code",
   "execution_count": null,
   "id": "cd7bc513",
   "metadata": {},
   "outputs": [],
   "source": [
    "retriever234"
   ]
  },
  {
   "cell_type": "code",
   "execution_count": null,
   "id": "4510ea38",
   "metadata": {},
   "outputs": [],
   "source": [
    "# RAG prompt\n",
    "template = \"\"\"Answer the question based only on the following context:\n",
    "{context}\n",
    "Question: {question}\n",
    "\"\"\"\n",
    "prompt = ChatPromptTemplate.from_template(template)\n",
    "\n",
    "# RAG\n",
    "model = ChatOpenAI()\n",
    "\n",
    "chain123 = (\n",
    "    RunnableParallel({\"context\": retriever234, \"question\": RunnablePassthrough()})\n",
    "    | prompt\n",
    "    | model\n",
    "    | StrOutputParser()\n",
    ")"
   ]
  },
  {
   "cell_type": "code",
   "execution_count": null,
   "id": "8f5848dd",
   "metadata": {},
   "outputs": [],
   "source": [
    "chain123.invoke(\"what are different Australia corporate tax types?\")"
   ]
  },
  {
   "cell_type": "code",
   "execution_count": null,
   "id": "e5489b16",
   "metadata": {},
   "outputs": [],
   "source": [
    "chain123.invoke(\"what are different Australia payroll tax types?\")"
   ]
  },
  {
   "cell_type": "code",
   "execution_count": null,
   "id": "36ab8f75",
   "metadata": {},
   "outputs": [],
   "source": [
    "doc4 = my_pinecone.similarity_search(\"what are different Australia corporate tax types?\", k=2)\n"
   ]
  },
  {
   "cell_type": "code",
   "execution_count": null,
   "id": "8906f9a7",
   "metadata": {},
   "outputs": [],
   "source": [
    "print(doc4)"
   ]
  },
  {
   "cell_type": "code",
   "execution_count": null,
   "id": "46451c62",
   "metadata": {},
   "outputs": [],
   "source": [
    "chain123.invoke(\"what is DSA difficuluties?\")\n"
   ]
  },
  {
   "cell_type": "code",
   "execution_count": null,
   "id": "6a00dd6b",
   "metadata": {},
   "outputs": [],
   "source": [
    "from langchain.vectorstores import Pinecone\n",
    "from langchain.embeddings import OpenAIEmbeddings\n",
    "import pinecone\n",
    "\n",
    "embeddings = OpenAIEmbeddings()\n",
    "my_pinecone = Pinecone.from_texts(\n",
    "    pages44,  # an iterable of strings you want to build your Pinecone index with\n",
    "    embeddings,\n",
    "    index_name=\"ds-index\")  # provide your own unique index_name"
   ]
  },
  {
   "cell_type": "code",
   "execution_count": null,
   "id": "4add34d7",
   "metadata": {},
   "outputs": [],
   "source": [
    "from pinecone import Pinecone\n",
    "\n",
    "index_description = pc.describe_index(\"ds-index\")\n",
    "print(index_description)"
   ]
  },
  {
   "cell_type": "code",
   "execution_count": null,
   "id": "323200e2",
   "metadata": {},
   "outputs": [],
   "source": [
    "vectorstore = my_pinecone \n",
    "model = ChatOpenAI(temperature=0)\n",
    "retriever2345 = MultiQueryRetriever.from_llm(retriever=vectorstore.as_retriever(), llm=model)"
   ]
  },
  {
   "cell_type": "code",
   "execution_count": null,
   "id": "d415469c",
   "metadata": {},
   "outputs": [],
   "source": [
    "# RAG prompt\n",
    "template = \"\"\"Answer the question based only on the following context:\n",
    "{context}\n",
    "Question: {question}\n",
    "\"\"\"\n",
    "prompt = ChatPromptTemplate.from_template(template)\n",
    "\n",
    "# RAG\n",
    "model = ChatOpenAI()\n",
    "\n",
    "chain1234 = (\n",
    "    RunnableParallel({\"context\": retriever2345, \"question\": RunnablePassthrough()})\n",
    "    | prompt\n",
    "    | model\n",
    "    | StrOutputParser()\n",
    ")"
   ]
  },
  {
   "cell_type": "code",
   "execution_count": null,
   "id": "c82e2d0e",
   "metadata": {},
   "outputs": [],
   "source": [
    "chain123.invoke(\"what is DSA difficuluties?\")\n"
   ]
  },
  {
   "cell_type": "code",
   "execution_count": null,
   "id": "f1cc9f4d",
   "metadata": {},
   "outputs": [],
   "source": [
    "chain123.invoke(\"what are different DSA advantages?\")\n"
   ]
  },
  {
   "cell_type": "code",
   "execution_count": null,
   "id": "1db78512",
   "metadata": {},
   "outputs": [],
   "source": [
    "chain123.invoke(\"tell me about DSA ?\")\n"
   ]
  },
  {
   "cell_type": "code",
   "execution_count": null,
   "id": "e3a391e9",
   "metadata": {},
   "outputs": [],
   "source": [
    "doc5 = my_pinecone.similarity_search(\"what are DSA advantages?\", k=2)\n",
    "print(doc5)"
   ]
  },
  {
   "cell_type": "code",
   "execution_count": null,
   "id": "f0f7b4e2",
   "metadata": {},
   "outputs": [],
   "source": [
    "chain1234.invoke(\"tell me about DSA ?\")\n"
   ]
  },
  {
   "cell_type": "code",
   "execution_count": null,
   "id": "dc14fca6",
   "metadata": {},
   "outputs": [],
   "source": [
    "chain1234.invoke(\"what is DSA difficuluties?\")\n"
   ]
  },
  {
   "cell_type": "code",
   "execution_count": null,
   "id": "122e21ef",
   "metadata": {},
   "outputs": [],
   "source": [
    "chain1234.invoke(\"what are  DSA advantages?\")\n"
   ]
  },
  {
   "cell_type": "code",
   "execution_count": null,
   "id": "9dce9aba",
   "metadata": {},
   "outputs": [],
   "source": []
  }
 ],
 "metadata": {
  "kernelspec": {
   "display_name": "Python 3 (ipykernel)",
   "language": "python",
   "name": "python3"
  },
  "language_info": {
   "codemirror_mode": {
    "name": "ipython",
    "version": 3
   },
   "file_extension": ".py",
   "mimetype": "text/x-python",
   "name": "python",
   "nbconvert_exporter": "python",
   "pygments_lexer": "ipython3",
   "version": "3.11.5"
  }
 },
 "nbformat": 4,
 "nbformat_minor": 5
}
